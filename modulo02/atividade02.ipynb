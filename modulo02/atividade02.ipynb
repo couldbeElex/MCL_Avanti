{
 "cells": [
  {
   "cell_type": "markdown",
   "id": "82f8d65f-808f-4de1-a89b-e3e7876fbf6c",
   "metadata": {},
   "source": [
    "## Atividade 02 - Bootcamp Avanti MCL\n",
    "Observação: Eu não entendi quando, nos enunciados, foi pedido \"criar uma função que receba\". Não sabia se a intenção era fazer uma 'def função()' que recebesse determinado input() ou se uma função aberta (como os códigos abaixo) também serviria. A fim de manter a atividade simples eu decidi por fazer sem a definição de novas funções."
   ]
  },
  {
   "cell_type": "markdown",
   "id": "8d252a74-01b8-4c05-850e-8c1055ab9700",
   "metadata": {},
   "source": [
    "#### 01. Escreva uma função que receba uma lista de números e retorne outra lista com os números ímpares."
   ]
  },
  {
   "cell_type": "code",
   "execution_count": 122,
   "id": "0207d67b-43c2-4d96-9548-6a94a09297c8",
   "metadata": {},
   "outputs": [
    {
     "name": "stdout",
     "output_type": "stream",
     "text": [
      "Array inteiro: [89, 20, 85, 7, 63, 1, 58, 72, 62, 12].\n"
     ]
    }
   ],
   "source": [
    "import random as rd\n",
    "arr = []\n",
    "\n",
    "for _ in range(1,11):\n",
    "    builder = rd.randint(1, 97)\n",
    "    arr.append(builder)\n",
    "\n",
    "print(f'Array inteiro: {arr}.')"
   ]
  },
  {
   "cell_type": "code",
   "execution_count": 123,
   "id": "08f6f992-dc37-4a1f-bb21-bdfca57296ec",
   "metadata": {},
   "outputs": [
    {
     "name": "stdout",
     "output_type": "stream",
     "text": [
      "Números ímpares: [89, 85, 7, 63, 1].\n"
     ]
    }
   ],
   "source": [
    "odds = []\n",
    "\n",
    "for i in arr:\n",
    "    \n",
    "    if i % 2 != 0:\n",
    "        odds.append(i)\n",
    "\n",
    "print(f'Números ímpares: {odds}.')"
   ]
  },
  {
   "cell_type": "markdown",
   "id": "8146f533-ec1e-4321-9d6b-b179f8fcb7aa",
   "metadata": {},
   "source": [
    "***"
   ]
  },
  {
   "cell_type": "markdown",
   "id": "336d395d-4c7c-491f-bd7b-94ca3cafd3e2",
   "metadata": {},
   "source": [
    "#### 02. Escreva uma função que receba uma lista de números e retorne outra lista com os números primos presentes."
   ]
  },
  {
   "cell_type": "code",
   "execution_count": 124,
   "id": "d47c47bc-8b38-42fa-b12f-2595a5325886",
   "metadata": {},
   "outputs": [
    {
     "name": "stdout",
     "output_type": "stream",
     "text": [
      "Números primos: [89, 7].\n"
     ]
    }
   ],
   "source": [
    "primes = []\n",
    "\n",
    "for i in arr:\n",
    "\n",
    "    if i > 1:\n",
    "        for c in range(2, (i // 2) + 1):              \n",
    "            if i % c == 0:\n",
    "                break\n",
    "        else:\n",
    "            primes.append(i)\n",
    "    else:\n",
    "        break\n",
    "\n",
    "print(f'Números primos: {primes}.')"
   ]
  },
  {
   "cell_type": "markdown",
   "id": "fce23010-f509-40da-9ed5-b38b1016eef6",
   "metadata": {},
   "source": [
    "***"
   ]
  },
  {
   "cell_type": "markdown",
   "id": "69bf4a56-73b4-4c31-8283-113c0b0275e0",
   "metadata": {},
   "source": [
    "#### 03. Escreva uma função que receba duas listas e retorne outra lista com os elementos que estão presentes em apenas uma das listas."
   ]
  },
  {
   "cell_type": "code",
   "execution_count": 125,
   "id": "596f72eb-12eb-45f1-acbf-6dcf8d4e0843",
   "metadata": {},
   "outputs": [
    {
     "name": "stdout",
     "output_type": "stream",
     "text": [
      "Array inicial: [89, 20, 85, 7, 63, 1, 58, 72, 62, 12].\n",
      "Segundo array: [22, 18, 1, 54, 53, 31, 62, 37, 95, 17].\n"
     ]
    }
   ],
   "source": [
    "compArr = []\n",
    "\n",
    "for _ in range(1, 11):\n",
    "    builder = rd.randint(1, 97)\n",
    "    compArr.append(builder)\n",
    "\n",
    "print(f'Array inicial: {arr}.\\nSegundo array: {compArr}.')"
   ]
  },
  {
   "cell_type": "code",
   "execution_count": 126,
   "id": "f59adbaf-01f1-4ee8-a2ea-d3e7e15b0550",
   "metadata": {},
   "outputs": [
    {
     "name": "stdout",
     "output_type": "stream",
     "text": [
      "São comuns aos dois arrays: [1, 62].\n"
     ]
    }
   ],
   "source": [
    "matches = []\n",
    "\n",
    "for i in arr:\n",
    "    for c in compArr:\n",
    "        if i == c:\n",
    "            matches.append(i)\n",
    "\n",
    "print(f'São comuns aos dois arrays: {matches}.')"
   ]
  },
  {
   "cell_type": "markdown",
   "id": "73e674a2-575c-4bab-ab67-a1e70a5b8a60",
   "metadata": {},
   "source": [
    "***"
   ]
  },
  {
   "cell_type": "markdown",
   "id": "ebbdae18-7e48-4895-88bc-8ba48cc3dacf",
   "metadata": {},
   "source": [
    "#### 04. Dada uma lista de números inteiros, escreva uma função para encontrar o segundo maior valor na lista."
   ]
  },
  {
   "cell_type": "code",
   "execution_count": 130,
   "id": "0b62db0d-70aa-4ae0-8eeb-106c46b94c64",
   "metadata": {},
   "outputs": [
    {
     "name": "stdout",
     "output_type": "stream",
     "text": [
      "O segundo maior valor da primeira lista é: 85.\n"
     ]
    }
   ],
   "source": [
    "listLength = len(arr)\n",
    "\n",
    "for i in range(listLength):\n",
    "    for c in range(listLength - 1 - i):\n",
    "        if arr[c] > arr[c + 1]:\n",
    "            arr[c], arr[c + 1] = arr[c + 1], arr[c] # - bubbleSort\n",
    "\n",
    "# ------------ #\n",
    "\n",
    "secondHighest = arr[-2]\n",
    "\n",
    "print(f'O segundo maior valor da primeira lista é: {secondHighest}.')\n"
   ]
  },
  {
   "cell_type": "markdown",
   "id": "64082204-7e3d-442d-a428-64cba916177c",
   "metadata": {},
   "source": [
    "***"
   ]
  },
  {
   "cell_type": "markdown",
   "id": "084be565-ea1b-4f90-bc09-211eb74b8169",
   "metadata": {},
   "source": [
    "#### 05. Crie uma função que receba uma lista de tuplas, cada uma contendo o nome e a idade de uma pessoa, e retorne a lista ordenada pelo nome das pessoas em ordem alfabética."
   ]
  },
  {
   "cell_type": "code",
   "execution_count": 131,
   "id": "0b3b1dce-6a0b-4af3-a78e-911608c609de",
   "metadata": {},
   "outputs": [
    {
     "name": "stdout",
     "output_type": "stream",
     "text": [
      "A lista de pessoas é [['Veronica', 16], ['Samuel', 31], ['Otto', 22], ['Barbara', 27]].\n"
     ]
    }
   ],
   "source": [
    "people = [\n",
    "    ['Veronica', 16],\n",
    "    ['Samuel', 31],\n",
    "    ['Otto', 22],\n",
    "    ['Barbara', 27]\n",
    "]\n",
    "\n",
    "# usando fString por motivos de espaço antes do ponto me incomodando\n",
    "print(f'A lista de pessoas é {people}.')"
   ]
  },
  {
   "cell_type": "code",
   "execution_count": 133,
   "id": "bf78bca1-678b-4161-a081-c520a3adabd5",
   "metadata": {},
   "outputs": [
    {
     "data": {
      "text/plain": [
       "[['Barbara', 27], ['Otto', 22], ['Samuel', 31], ['Veronica', 16]]"
      ]
     },
     "execution_count": 133,
     "metadata": {},
     "output_type": "execute_result"
    }
   ],
   "source": [
    "sortedPeople = sorted(people) # Essa linha ficou um barato.\n",
    "\n",
    "sortedPeople"
   ]
  },
  {
   "cell_type": "markdown",
   "id": "d32c6eb4-c27c-476e-ad10-ccd851a4661b",
   "metadata": {},
   "source": [
    "#### 06. Observe os espaços sublinhados e complete o código."
   ]
  },
  {
   "cell_type": "code",
   "execution_count": null,
   "id": "767c76bc-e764-4faa-8e89-4e397bc03b2b",
   "metadata": {},
   "outputs": [],
   "source": [
    "import ____.pyplot as plt\n",
    "import numpy as ____\n",
    "\n",
    "fig, axs = plt.subplots(ncols=2, nrows=2, figsize=(5.5, 3.5),\n",
    "                layout='constrained')\n",
    "for ____ in range(2):\n",
    "    for ____ in range(2):\n",
    "        axs[row, col].annotate(f'axs[{row}, {col}]', (0.5, 0.5),\n",
    "                        transform=axs[row, col].transAxes,\n",
    "                        ha='center', va='center', ____ =18,\n",
    "                        color='darkgrey')\n",
    "fig.suptitle('____.subplots()')"
   ]
  },
  {
   "cell_type": "code",
   "execution_count": 142,
   "id": "23d813f9-adec-4516-9b46-bf7686288f70",
   "metadata": {},
   "outputs": [
    {
     "data": {
      "text/plain": [
       "Text(0.5, 0.98, 'title.subplots()')"
      ]
     },
     "execution_count": 142,
     "metadata": {},
     "output_type": "execute_result"
    },
    {
     "data": {
      "image/png": "[encoded data removed]",
      "text/plain": [
       "<Figure size 550x350 with 4 Axes>"
      ]
     },
     "metadata": {},
     "output_type": "display_data"
    }
   ],
   "source": [
    "import matplotlib.pyplot as plt\n",
    "import numpy as np\n",
    "\n",
    "fig, axs = plt.subplots(ncols = 2, nrows = 2, figsize = (5.5, 3.5),\n",
    "                    layout = 'constrained')\n",
    "\n",
    "for row in range(2):\n",
    "    for col in range(2):\n",
    "        axs[row, col].annotate(f'axs[{row}, {col}]', (0.5, 0.5),\n",
    "                            transform = axs[row, col].transAxes,\n",
    "                            ha = 'center', va = 'center', fontsize = 18,\n",
    "                            color = 'darkgrey')\n",
    "        \n",
    "fig.suptitle('title.subplots()')"
   ]
  },
  {
   "cell_type": "markdown",
   "id": "bdc35f53-942e-44fa-9922-03acd1ab70af",
   "metadata": {},
   "source": [
    "***"
   ]
  },
  {
   "cell_type": "markdown",
   "id": "3f1b1cf5-4c00-4ba3-94f2-6de930ab0559",
   "metadata": {},
   "source": [
    "#### 07. Observe os espaços sublinhados e complete o código.\n",
    "Nota: Foi necessário o auxílio do ChatGPT nessa questão."
   ]
  },
  {
   "cell_type": "code",
   "execution_count": null,
   "id": "70b6d1d6-4452-4feb-9ccb-281a8246c521",
   "metadata": {},
   "outputs": [],
   "source": [
    "import numpy as np\n",
    "import ____ as mpl\n",
    "import ____.____ as plt\n",
    "\n",
    "x = np.____(-2 * np.pi, 2 * np.pi, 100)\n",
    "y = np.____(x)\n",
    "\n",
    "____, ____ = plt.subplots()\n",
    "ax.____(____, ____)"
   ]
  },
  {
   "cell_type": "code",
   "execution_count": 147,
   "id": "6ef24205-1143-4170-a138-1d77ce79e118",
   "metadata": {},
   "outputs": [
    {
     "data": {
      "text/plain": [
       "[<matplotlib.lines.Line2D at 0x171fda6ed20>]"
      ]
     },
     "execution_count": 147,
     "metadata": {},
     "output_type": "execute_result"
    },
    {
     "data": {
      "image/png": "[encoded data removed]",
      "text/plain": [
       "<Figure size 640x480 with 1 Axes>"
      ]
     },
     "metadata": {},
     "output_type": "display_data"
    }
   ],
   "source": [
    "import numpy as np\n",
    "import matplotlib as mpl\n",
    "import matplotlib.pyplot as plt\n",
    "\n",
    "x = np.linspace(-2 * np.pi, 2 * np.pi, 100)\n",
    "y = np.sin(x)\n",
    "\n",
    "fig, ax = plt.subplots()\n",
    "ax.plot(x, y)"
   ]
  },
  {
   "cell_type": "markdown",
   "id": "81afad09-8965-4e81-8830-7037762436a1",
   "metadata": {},
   "source": [
    "***"
   ]
  },
  {
   "cell_type": "markdown",
   "id": "8d2ad253-6e38-4706-83b7-bafd0ea06c88",
   "metadata": {},
   "source": [
    "#### 08. Utilizando pandas, como realizar a leitura de um arquivo CSV em um DataFrame e exibir as primeiras linhas?"
   ]
  },
  {
   "cell_type": "markdown",
   "id": "72fca8ee-0dd0-47cf-a718-d61bfd3a7453",
   "metadata": {},
   "source": [
    "Utilizando o método head()."
   ]
  },
  {
   "cell_type": "code",
   "execution_count": null,
   "id": "4f2c8ce7-32d2-482d-9b38-c3f6de52a153",
   "metadata": {},
   "outputs": [],
   "source": [
    "import pandas as pd\n",
    "\n",
    "arquivo = pd.read_csv(\"\"./file_path.csv\")\n",
    "titanic.head(n) \n",
    "\n",
    "# o método \"head(x)\" exibe as primeiras x linhas de um arquivo."
   ]
  },
  {
   "cell_type": "markdown",
   "id": "edff4d7d-669b-415b-a616-f683f8a18839",
   "metadata": {},
   "source": [
    "***"
   ]
  },
  {
   "cell_type": "markdown",
   "id": "918c7d72-615f-44b1-ac61-6b20d3856a9b",
   "metadata": {},
   "source": [
    "#### 09. Utilizando pandas, como selecionar uma coluna sepecífica e filtrar linhas em um 'DataFrame' com base em uma condição."
   ]
  },
  {
   "cell_type": "markdown",
   "id": "9936715f-3672-46c0-8bef-15d348b63a8e",
   "metadata": {},
   "source": [
    "Atribui-se a uma variável partes específicas de uma tupla já existente; exemplo, pode-se atribuir à tupla \"x\" colunas específicas de uma tupla \"y\". Em seguida, chama-se \"x\" com o método \"head()\", exibindo apenas as informações filtradas previamente.\n",
    "\n",
    "Para adicionar uma nova camada de filtragem e verificar os valores nas linhas, pode-se usar operadores lógicos para identificar valores específicos."
   ]
  },
  {
   "cell_type": "code",
   "execution_count": null,
   "id": "dada5bdb-4d30-4674-bfd4-6a26e23a2cef",
   "metadata": {},
   "outputs": [],
   "source": [
    "arquivo_filtro = arquivo[[\"coluna1\"] > 20] \n",
    "\n",
    "# Isso vai selecionar apenas a coluna1 de \"arquivo\" e, dado que \"coluna1\" seja populado apenas por valores compatíveis, retornará, dela, apenas os valores que cumpram o operador lógico (> 20).\n",
    "\n",
    "arquivo_filtro\n",
    "\n",
    "# Exibe a nova tupla \"arquivo_filtro\" com os elementos filtrados de \"arquivo\"."
   ]
  },
  {
   "cell_type": "markdown",
   "id": "23a52f8c-a6af-48e7-8910-25f0a7d675e9",
   "metadata": {},
   "source": [
    "***"
   ]
  },
  {
   "cell_type": "markdown",
   "id": "3c71707a-5f5b-4dd6-8d08-555b3d292f26",
   "metadata": {},
   "source": [
    "#### 10. Utilizando pandas, como lidar com valores ausentes (NaN) em um DataFrame?"
   ]
  },
  {
   "cell_type": "markdown",
   "id": "f8e07ad3-4dbc-4662-8ddc-d302d314762f",
   "metadata": {},
   "source": [
    "Duas abordagens são sugeridas: o método fillna() preenche os valores ausentes e o método dropna() remove as linhas com valores ausentes.\n",
    "\n",
    "O método fillna() possui parâmetros que permitem preencher valores em colunas específicas ou no documento inteiro.\n",
    "\n",
    "O método dropna() possui parâmetros que permitem remover linhas com NaN em colunas específicas ou quaisquer linhas com NaN no documento inteiro."
   ]
  },
  {
   "cell_type": "markdown",
   "id": "d78f491a-411b-409e-a7ea-0ef4d8a6d6fb",
   "metadata": {},
   "source": [
    "##### Substituindo valores faltantes:"
   ]
  },
  {
   "cell_type": "code",
   "execution_count": null,
   "id": "11f14d5f-67cd-4a07-be70-f1144f6c88da",
   "metadata": {},
   "outputs": [],
   "source": [
    "df[\"coluna1\"].fillna(x, inplace=True)\n",
    "\n",
    "# Substitui todos os valores NaN na 'coluna1' por um valor 'x'.\n",
    "\n",
    "# ------------ #\n",
    "\n",
    "values = {\"coluna1\": 0, \"coluna2\": 2, \"coluna3\": 4}\n",
    "\n",
    "df.fillna(values)\n",
    "\n",
    "# Substitui os valores faltantes (NaN) na 'coluna1' por 0, os na 'coluna2' por 2 e o na 'coluna3' por 4.\n",
    "\n",
    "# ------------- #\n",
    "\n",
    "df.fillna(x)\n",
    "\n",
    "# Substitui TODOS os valores faltantes na tabela por x."
   ]
  },
  {
   "cell_type": "markdown",
   "id": "b8e220ac-1605-442b-a67e-d4b4b556afc4",
   "metadata": {},
   "source": [
    "##### Removendo valores faltantes:"
   ]
  },
  {
   "cell_type": "code",
   "execution_count": null,
   "id": "72d34c12-db48-49b7-b997-b10bea4ded6e",
   "metadata": {},
   "outputs": [],
   "source": [
    "df.dropna(subset = [\"coluna1\", \"coluna2\"], inplace=True)\n",
    "\n",
    "# Remove todos os valores faltantes na 'coluna1' e na 'coluna2'.\n",
    "\n",
    "# ------------ #\n",
    "\n",
    "df.dropna(inplace = True)\n",
    "\n",
    "# Remove TODOS os valores faltantes na tupla."
   ]
  },
  {
   "cell_type": "code",
   "execution_count": null,
   "id": "6cd02526-5bca-433a-9098-920d0c4f2c6e",
   "metadata": {},
   "outputs": [],
   "source": []
  }
 ],
 "metadata": {
  "kernelspec": {
   "display_name": "Python 3 (ipykernel)",
   "language": "python",
   "name": "python3"
  },
  "language_info": {
   "codemirror_mode": {
    "name": "ipython",
    "version": 3
   },
   "file_extension": ".py",
   "mimetype": "text/x-python",
   "name": "python",
   "nbconvert_exporter": "python",
   "pygments_lexer": "ipython3",
   "version": "3.12.4"
  }
 },
 "nbformat": 4,
 "nbformat_minor": 5
}
