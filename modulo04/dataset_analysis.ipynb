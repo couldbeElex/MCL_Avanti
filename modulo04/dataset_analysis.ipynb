{
 "cells": [
  {
   "cell_type": "markdown",
   "metadata": {},
   "source": [
    "#### Bibliotecas utilizadas"
   ]
  },
  {
   "cell_type": "code",
   "execution_count": 1,
   "metadata": {},
   "outputs": [],
   "source": [
    "import pandas as pd\n",
    "import matplotlib.pyplot as plt\n",
    "import os\n",
    "import cv2 as cv\n",
    "import hashlib"
   ]
  },
  {
   "cell_type": "markdown",
   "metadata": {},
   "source": [
    "## Análise do arquivo CSV"
   ]
  },
  {
   "cell_type": "markdown",
   "metadata": {},
   "source": [
    "##### Realizando a leitura do arquivo"
   ]
  },
  {
   "cell_type": "code",
   "execution_count": 3,
   "metadata": {},
   "outputs": [
    {
     "data": {
      "text/html": [
       "<div>\n",
       "<style scoped>\n",
       "    .dataframe tbody tr th:only-of-type {\n",
       "        vertical-align: middle;\n",
       "    }\n",
       "\n",
       "    .dataframe tbody tr th {\n",
       "        vertical-align: top;\n",
       "    }\n",
       "\n",
       "    .dataframe thead th {\n",
       "        text-align: right;\n",
       "    }\n",
       "</style>\n",
       "<table border=\"1\" class=\"dataframe\">\n",
       "  <thead>\n",
       "    <tr style=\"text-align: right;\">\n",
       "      <th></th>\n",
       "      <th>image_id</th>\n",
       "      <th>split</th>\n",
       "      <th>sat_image_path</th>\n",
       "      <th>mask_path</th>\n",
       "    </tr>\n",
       "  </thead>\n",
       "  <tbody>\n",
       "    <tr>\n",
       "      <th>0</th>\n",
       "      <td>100034</td>\n",
       "      <td>train</td>\n",
       "      <td>train/100034_sat.jpg</td>\n",
       "      <td>train/100034_mask.png</td>\n",
       "    </tr>\n",
       "    <tr>\n",
       "      <th>1</th>\n",
       "      <td>100081</td>\n",
       "      <td>train</td>\n",
       "      <td>train/100081_sat.jpg</td>\n",
       "      <td>train/100081_mask.png</td>\n",
       "    </tr>\n",
       "    <tr>\n",
       "      <th>2</th>\n",
       "      <td>100129</td>\n",
       "      <td>train</td>\n",
       "      <td>train/100129_sat.jpg</td>\n",
       "      <td>train/100129_mask.png</td>\n",
       "    </tr>\n",
       "    <tr>\n",
       "      <th>3</th>\n",
       "      <td>100703</td>\n",
       "      <td>train</td>\n",
       "      <td>train/100703_sat.jpg</td>\n",
       "      <td>train/100703_mask.png</td>\n",
       "    </tr>\n",
       "    <tr>\n",
       "      <th>4</th>\n",
       "      <td>100712</td>\n",
       "      <td>train</td>\n",
       "      <td>train/100712_sat.jpg</td>\n",
       "      <td>train/100712_mask.png</td>\n",
       "    </tr>\n",
       "    <tr>\n",
       "      <th>...</th>\n",
       "      <td>...</td>\n",
       "      <td>...</td>\n",
       "      <td>...</td>\n",
       "      <td>...</td>\n",
       "    </tr>\n",
       "    <tr>\n",
       "      <th>8565</th>\n",
       "      <td>998829</td>\n",
       "      <td>test</td>\n",
       "      <td>test/998829_sat.jpg</td>\n",
       "      <td>NaN</td>\n",
       "    </tr>\n",
       "    <tr>\n",
       "      <th>8566</th>\n",
       "      <td>998928</td>\n",
       "      <td>test</td>\n",
       "      <td>test/998928_sat.jpg</td>\n",
       "      <td>NaN</td>\n",
       "    </tr>\n",
       "    <tr>\n",
       "      <th>8567</th>\n",
       "      <td>999518</td>\n",
       "      <td>test</td>\n",
       "      <td>test/999518_sat.jpg</td>\n",
       "      <td>NaN</td>\n",
       "    </tr>\n",
       "    <tr>\n",
       "      <th>8568</th>\n",
       "      <td>999651</td>\n",
       "      <td>test</td>\n",
       "      <td>test/999651_sat.jpg</td>\n",
       "      <td>NaN</td>\n",
       "    </tr>\n",
       "    <tr>\n",
       "      <th>8569</th>\n",
       "      <td>999703</td>\n",
       "      <td>test</td>\n",
       "      <td>test/999703_sat.jpg</td>\n",
       "      <td>NaN</td>\n",
       "    </tr>\n",
       "  </tbody>\n",
       "</table>\n",
       "<p>8570 rows × 4 columns</p>\n",
       "</div>"
      ],
      "text/plain": [
       "      image_id  split        sat_image_path              mask_path\n",
       "0       100034  train  train/100034_sat.jpg  train/100034_mask.png\n",
       "1       100081  train  train/100081_sat.jpg  train/100081_mask.png\n",
       "2       100129  train  train/100129_sat.jpg  train/100129_mask.png\n",
       "3       100703  train  train/100703_sat.jpg  train/100703_mask.png\n",
       "4       100712  train  train/100712_sat.jpg  train/100712_mask.png\n",
       "...        ...    ...                   ...                    ...\n",
       "8565    998829   test   test/998829_sat.jpg                    NaN\n",
       "8566    998928   test   test/998928_sat.jpg                    NaN\n",
       "8567    999518   test   test/999518_sat.jpg                    NaN\n",
       "8568    999651   test   test/999651_sat.jpg                    NaN\n",
       "8569    999703   test   test/999703_sat.jpg                    NaN\n",
       "\n",
       "[8570 rows x 4 columns]"
      ]
     },
     "execution_count": 3,
     "metadata": {},
     "output_type": "execute_result"
    }
   ],
   "source": [
    "df = pd.read_csv('dataset/metadata.csv')\n",
    "df"
   ]
  },
  {
   "cell_type": "markdown",
   "metadata": {},
   "source": [
    "##### Separando a quantidade de validação, teste e treinamento"
   ]
  },
  {
   "cell_type": "code",
   "execution_count": 4,
   "metadata": {},
   "outputs": [
    {
     "name": "stdout",
     "output_type": "stream",
     "text": [
      "\n",
      "    Qtd de arquivos de treino: 6226 * 2 (sat e mask)\n",
      "    Qtd de arquivos de validação: 1243 (sat)\n",
      "    Qtd de arquivos de teste: 1101  (sat)\n",
      "    \n",
      "Total de arquivos:  14796\n"
     ]
    }
   ],
   "source": [
    "qtd_train = len(df[df['split'] == 'train'].index)\n",
    "qtd_valid = len(df[df['split'] == 'valid'].index)\n",
    "qtd_test = len(df[df['split'] == 'test'].index)\n",
    "\n",
    "result = \"\"\"\n",
    "    Qtd de arquivos de treino: {train} * 2 (sat e mask)\n",
    "    Qtd de arquivos de validação: {valid} (sat)\n",
    "    Qtd de arquivos de teste: {test}  (sat)\n",
    "    \"\"\"\n",
    "print(result.format(train=qtd_train, valid=qtd_valid, test=qtd_test))\n",
    "print(\"Total de arquivos: \", qtd_train*2 + qtd_valid + qtd_test)"
   ]
  },
  {
   "cell_type": "markdown",
   "metadata": {},
   "source": [
    "##### Plotando gráfico"
   ]
  },
  {
   "cell_type": "code",
   "execution_count": 5,
   "metadata": {},
   "outputs": [
    {
     "data": {
      "image/png": "[encoded data removed]",
      "text/plain": [
       "<Figure size 640x480 with 1 Axes>"
      ]
     },
     "metadata": {},
     "output_type": "display_data"
    }
   ],
   "source": [
    "labels = ['Validação', 'Teste', 'Treino']\n",
    "sizes = [qtd_valid, qtd_test, qtd_train*2]\n",
    "fig, ax = plt.subplots()\n",
    "\n",
    "colors = ['#fbc531', '#00a8ff', '#4cd137']\n",
    "\n",
    "ax.pie(sizes, labels=labels, autopct='%1.1f%%', startangle=90, explode=(0.05, 0.05, 0), colors=colors)\n",
    "plt.title('Distribuição dos arquivos')\n",
    "plt.show()"
   ]
  },
  {
   "cell_type": "markdown",
   "metadata": {},
   "source": [
    "## Análise do dataset"
   ]
  },
  {
   "cell_type": "markdown",
   "metadata": {},
   "source": [
    "### Integridade dos arquivos\n",
    "1. Verifique se todas as imagens listadas no arquivo de informações realmente existem no diretório de imagens e vice-versa.\n",
    "2. Verifique se todas as imagens estão no mesmo formato, ex: JPEG, PNG, etc"
   ]
  },
  {
   "cell_type": "markdown",
   "metadata": {},
   "source": [
    "##### Verificando os arquivos de treino (Pares correspondentes e extensão do arquivo)"
   ]
  },
  {
   "cell_type": "code",
   "execution_count": 12,
   "metadata": {},
   "outputs": [
    {
     "name": "stdout",
     "output_type": "stream",
     "text": [
      "Tudo OK!\n"
     ]
    }
   ],
   "source": [
    "def verificar_pares_e_extensoes(caminho_pasta):\n",
    "    arquivos = os.listdir(caminho_pasta)\n",
    "\n",
    "    masks = set()\n",
    "    sats = set()\n",
    "\n",
    "    extensoes_incorretas = {\n",
    "        'mask': [],\n",
    "        'sat': []\n",
    "    }\n",
    "\n",
    "# Percorre os arquivos da pasta verificando a terminação de cada um\n",
    "    for arquivo in arquivos:\n",
    "        if arquivo.endswith('_mask.png'):\n",
    "            masks.add(arquivo.replace('_mask.png', ''))\n",
    "        elif arquivo.endswith('_mask.jpg'):\n",
    "            extensoes_incorretas['mask'].append(arquivo)\n",
    "        elif arquivo.endswith('_sat.jpg'):\n",
    "            sats.add(arquivo.replace('_sat.jpg', ''))\n",
    "        elif arquivo.endswith('_sat.png'):\n",
    "            extensoes_incorretas['sat'].append(arquivo)\n",
    "\n",
    "# Vericação se há algum par faltando\n",
    "    sem_pares_mask = masks - sats\n",
    "    sem_pares_sat = sats - masks\n",
    "\n",
    "# Se não houver arquivos sem pares ou com extensões incorretas: Tudo OK!\n",
    "    if not sem_pares_mask and not sem_pares_sat and not extensoes_incorretas['mask'] and not extensoes_incorretas['sat']:\n",
    "        print(\"Tudo OK!\")\n",
    "    else:\n",
    "        # Exibe os arquivos com erros\n",
    "        if sem_pares_mask:\n",
    "            print(\"Os arquivos 'mask' não possuem correspondentes 'sat':\")\n",
    "            for arquivo in sem_pares_mask:\n",
    "                print(f\"{arquivo}_mask.png\")\n",
    "        if sem_pares_sat:\n",
    "            print(\"Os arquivos 'sat' não possuem correspondentes 'mask':\")\n",
    "            for arquivo in sem_pares_sat:\n",
    "                print(f\"{arquivo}_sat.jpg\")\n",
    "        if extensoes_incorretas['mask']:\n",
    "            print(\"Os arquivos 'mask' estão com extensões incorretas:\")\n",
    "            for arquivo in extensoes_incorretas['mask']:\n",
    "                print(arquivo)\n",
    "        if extensoes_incorretas['sat']:\n",
    "            print(\"Os arquivos 'sat' estão com extensões incorretas:\")\n",
    "            for arquivo in extensoes_incorretas['sat']:\n",
    "                print(arquivo)\n",
    "\n",
    "caminho_pasta = 'dataset/train'\n",
    "verificar_pares_e_extensoes(caminho_pasta)"
   ]
  },
  {
   "cell_type": "markdown",
   "metadata": {},
   "source": [
    "##### Verificando extensão dos arquivos de teste e de validação"
   ]
  },
  {
   "cell_type": "code",
   "execution_count": 13,
   "metadata": {},
   "outputs": [
    {
     "name": "stdout",
     "output_type": "stream",
     "text": [
      "Tudo OK\n"
     ]
    }
   ],
   "source": [
    "def verificar_extensao_sat(caminho_pasta):\n",
    "\n",
    "    arquivos = os.listdir(caminho_pasta)\n",
    "    extensoes_incorretas = []\n",
    "\n",
    "# Percorre os arquivos da pasta verificando suas terminações\n",
    "    for arquivo in arquivos:\n",
    "        if not arquivo.endswith('_sat.jpg'):\n",
    "          # Add na lista o arquivo com extensão incorreta\n",
    "            extensoes_incorretas.append(arquivo)\n",
    "\n",
    "    if not extensoes_incorretas:\n",
    "        print(\"Tudo OK\")\n",
    "    else:\n",
    "        print(\"Os arquivos não possuem o final '_sat.jpg':\")\n",
    "        for arquivo in extensoes_incorretas:\n",
    "            print(arquivo)\n",
    "\n",
    "caminho_pasta = 'dataset/test'\n",
    "# caminho_pasta = 'dataset/valid'\n",
    "verificar_extensao_sat(caminho_pasta)"
   ]
  },
  {
   "cell_type": "markdown",
   "metadata": {},
   "source": [
    "### Consistência dos Metadados\n",
    "\n",
    "1. Verifique valores inconsistentes, por exemplo: dimensões de imagens fora do esperado."
   ]
  },
  {
   "cell_type": "code",
   "execution_count": 14,
   "metadata": {},
   "outputs": [
    {
     "name": "stdout",
     "output_type": "stream",
     "text": [
      "Tudo OK!\n"
     ]
    }
   ],
   "source": [
    "def verificar_dimensoes(caminho_pasta, shape_esperado):\n",
    "    arquivos = os.listdir(caminho_pasta)\n",
    "    dimens_incorretas = []\n",
    "\n",
    "# Percorrendo arquivos e verificando a dimensão de cada imagem\n",
    "    for arquivo in arquivos:\n",
    "        caminho_arquivo = os.path.join(caminho_pasta, arquivo)\n",
    "        imagem = cv.imread(caminho_arquivo)\n",
    "        if imagem.shape != shape_esperado:\n",
    "            dimens_incorretas.append(arquivo)\n",
    "\n",
    "    if not dimens_incorretas:\n",
    "        print(\"Tudo OK!\")\n",
    "    else:\n",
    "        print(\"Os arquivos possuem dimensões diferentes: \")\n",
    "        for arquivo in dimens_incorretas:\n",
    "            print(arquivo)\n",
    "\n",
    "caminho_pasta = 'dataset/test'\n",
    "# caminho_pasta = 'dataset/valid'\n",
    "# caminho_pasta = 'dataset/train'\n",
    "shape_esperado = (1024, 1024, 3)\n",
    "verificar_dimensoes(caminho_pasta, shape_esperado)"
   ]
  },
  {
   "cell_type": "markdown",
   "metadata": {},
   "source": [
    "### Qualidade das Imagens\n",
    "\n",
    "1. Identifique imagens corrompidas que não podem ser abertas ou processadas"
   ]
  },
  {
   "cell_type": "code",
   "execution_count": 18,
   "metadata": {},
   "outputs": [
    {
     "name": "stdout",
     "output_type": "stream",
     "text": [
      "\n",
      "Tudo Ok\n"
     ]
    }
   ],
   "source": [
    "def imagens_corrompidas(caminho_pasta):\n",
    "    arquivos = os.listdir(caminho_pasta)\n",
    "\n",
    "    imagens_corrompidas = []\n",
    "\n",
    "    for arquivo in arquivos:\n",
    "        caminho_arquivo = os.path.join(caminho_pasta, arquivo)\n",
    "        try:\n",
    "            imagem = cv.imread(caminho_arquivo)\n",
    "            if imagem is None:\n",
    "                raise ValueError(\"Arquivo não pôde ser aberto ou está vazio\")\n",
    "        except Exception as e:\n",
    "            imagens_corrompidas.append(arquivo)\n",
    "            print(f\"Imagem corrompida: {arquivo} - {str(e)}\")\n",
    "\n",
    "    if imagens_corrompidas:\n",
    "        print(\"\\nImagens corrompidas:\")\n",
    "        for imagem in imagens_corrompidas:\n",
    "            print(imagem)\n",
    "    else:\n",
    "        print(\"\\nTudo Ok\")\n",
    "\n",
    "caminho_pasta = 'dataset/test'\n",
    "# caminho_pasta = 'dataset/valid'\n",
    "# caminho_pasta = 'dataset/train'\n",
    "imagens_corrompidas(caminho_pasta)"
   ]
  },
  {
   "cell_type": "markdown",
   "metadata": {},
   "source": [
    "### Duplicatas\n",
    "\n",
    "1. Identifique imagens duplicadas que possam enviesar os resultados.\n",
    "2. Verifique duplicatas no arquivo de informações."
   ]
  },
  {
   "cell_type": "code",
   "execution_count": 20,
   "metadata": {},
   "outputs": [
    {
     "name": "stdout",
     "output_type": "stream",
     "text": [
      "Tudo Ok!\n"
     ]
    }
   ],
   "source": [
    "import hashlib\n",
    "\n",
    "# Gera um hash para cada arquivo baseado no conteúdo binário\n",
    "def calcular_hash_md5(arquivo):\n",
    "    with open(arquivo, 'rb') as f:\n",
    "        conteudo = f.read()\n",
    "        hash_md5 = hashlib.md5(conteudo).hexdigest()\n",
    "    return hash_md5\n",
    "\n",
    "def imagens_duplicadas(caminho_pasta):\n",
    "    arquivos = os.listdir(caminho_pasta)\n",
    "\n",
    "    hash_arquivos = {}\n",
    "    duplicatas = []\n",
    "\n",
    "# Percorre todos os arquivos verificando o hash gerado de cada arquivo\n",
    "    for arquivo in arquivos:\n",
    "        caminho_arquivo = os.path.join(caminho_pasta, arquivo)\n",
    "        hash_md5 = calcular_hash_md5(caminho_arquivo)\n",
    "        if hash_md5 in hash_arquivos:\n",
    "            duplicatas.append((arquivo, hash_arquivos[hash_md5]))\n",
    "        else:\n",
    "            hash_arquivos[hash_md5] = arquivo\n",
    "\n",
    "    if duplicatas:\n",
    "        print(\"Imagens duplicadas:\")\n",
    "        for imagem1, imagem2 in duplicatas:\n",
    "            print(f\"Imagem 1: {imagem1} & Imagem 2: {imagem2}\")\n",
    "    else:\n",
    "        print(\"Tudo Ok!\")\n",
    "\n",
    "caminho_pasta = 'dataset/test'\n",
    "# caminho_pasta = 'dataset/valid'\n",
    "# caminho_pasta = 'dataset/train'\n",
    "imagens_duplicadas(caminho_pasta)\n"
   ]
  }
 ],
 "metadata": {
  "kernelspec": {
   "display_name": "Python 3 (ipykernel)",
   "language": "python",
   "name": "python3"
  },
  "language_info": {
   "codemirror_mode": {
    "name": "ipython",
    "version": 3
   },
   "file_extension": ".py",
   "mimetype": "text/x-python",
   "name": "python",
   "nbconvert_exporter": "python",
   "pygments_lexer": "ipython3",
   "version": "3.11.7"
  }
 },
 "nbformat": 4,
 "nbformat_minor": 4
}
